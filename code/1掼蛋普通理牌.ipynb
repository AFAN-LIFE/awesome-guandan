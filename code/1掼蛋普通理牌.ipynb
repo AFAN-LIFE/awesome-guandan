{
 "cells": [
  {
   "cell_type": "markdown",
   "id": "9b0e514b-ace6-4317-b89c-a3bf512f850c",
   "metadata": {},
   "source": [
    "# 掼蛋普通理牌"
   ]
  },
  {
   "cell_type": "markdown",
   "id": "fb8ede6d-b24f-481d-9586-656a60566f84",
   "metadata": {},
   "source": [
    "- 作者：AFAN\n",
    "- 时间：2024-08-22\n",
    "- 微信：afan-life\n",
    "- 邮箱：fcncassandra@gmail.com\n",
    "- B站/知识星球：AFAN的金融科技\n",
    "- 协议：CC-BY 4.0 引用请注明来源：https://github.com/AFAN-LIFE/awesome-guandan"
   ]
  },
  {
   "cell_type": "markdown",
   "id": "c2c6e1bb-4c21-4e05-81c9-68ff18d4d557",
   "metadata": {},
   "source": [
    "## 洗牌"
   ]
  },
  {
   "cell_type": "code",
   "execution_count": 163,
   "id": "9305649a-1a0b-4a07-8e80-049bbe406c2c",
   "metadata": {},
   "outputs": [],
   "source": [
    "import numpy as np\n",
    "import pandas as pd\n",
    "import matplotlib.pyplot as plt"
   ]
  },
  {
   "cell_type": "code",
   "execution_count": 164,
   "id": "5e3b02a7-3bfe-4114-931e-f99f60aa1bea",
   "metadata": {},
   "outputs": [],
   "source": [
    "suits = ['♠', '♥', '♣', '♦']  # 黑桃, 红心, 梅花, 方片\n",
    "ranks = ['2', '3', '4', '5', '6', '7', '8', '9', '10', 'J', 'Q', 'K', 'A']"
   ]
  },
  {
   "cell_type": "code",
   "execution_count": 165,
   "id": "792e6d0a-95f8-48cc-84d9-afc055f3205a",
   "metadata": {},
   "outputs": [],
   "source": [
    "# 创建一副牌\n",
    "deck = [f'{rank}{suit}' for suit in suits for rank in ranks]\n",
    "deck += ['BJ', 'RJ']  # 加入两张王\n",
    "two_decks = deck + deck"
   ]
  },
  {
   "cell_type": "code",
   "execution_count": 166,
   "id": "007bcd97-4202-4499-ab9f-2080303c55f3",
   "metadata": {},
   "outputs": [],
   "source": [
    "# 洗牌\n",
    "random.shuffle(two_decks)\n",
    "# 发牌，每人27张（掼蛋通常4人）\n",
    "def deal(deck):\n",
    "    return [deck[i::4] for i in range(4)]\n",
    "hands = deal(two_decks)"
   ]
  },
  {
   "cell_type": "markdown",
   "id": "7485e166-eeca-4457-818e-079f1ac336e2",
   "metadata": {},
   "source": [
    "## 矩阵转换"
   ]
  },
  {
   "cell_type": "code",
   "execution_count": 167,
   "id": "b2fdf250-8642-4bc6-8193-05882aa22e8c",
   "metadata": {},
   "outputs": [],
   "source": [
    "def trans_hand_into_df(hand):\n",
    "    df = pd.DataFrame(columns=['♠', '♥', '♣', '♦', 'sum'], data=0,\n",
    "             index=['2', '3', '4', '5', '6', '7', '8', '9', '10', 'J', 'Q', 'K', 'A', 'BJ', 'RJ'])\n",
    "    for i in hand:\n",
    "        if i == 'BJ':\n",
    "            df.loc['BJ', 'sum'] += 1\n",
    "        elif i == 'RJ':\n",
    "            df.loc['RJ', 'sum'] += 1\n",
    "        else:\n",
    "            df.loc[i[:-1], i[-1]] += 1\n",
    "    df['sum'] += df.loc[:, ['♠', '♥', '♣', '♦']].sum(axis=1)\n",
    "    return df"
   ]
  },
  {
   "cell_type": "code",
   "execution_count": 168,
   "id": "3961c33d-163f-481a-b1bc-fe099563b064",
   "metadata": {},
   "outputs": [
    {
     "data": {
      "text/plain": [
       "['4♠',\n",
       " '6♣',\n",
       " 'A♣',\n",
       " '2♠',\n",
       " '6♦',\n",
       " '4♣',\n",
       " '8♠',\n",
       " '7♣',\n",
       " 'K♥',\n",
       " 'A♦',\n",
       " '3♥',\n",
       " '4♥',\n",
       " '5♥',\n",
       " '7♠',\n",
       " '7♣',\n",
       " '2♣',\n",
       " '5♥',\n",
       " '8♦',\n",
       " '10♥',\n",
       " 'A♥',\n",
       " 'A♣',\n",
       " '5♠',\n",
       " 'J♥',\n",
       " '3♠',\n",
       " '10♣',\n",
       " 'BJ',\n",
       " 'BJ']"
      ]
     },
     "execution_count": 168,
     "metadata": {},
     "output_type": "execute_result"
    }
   ],
   "source": [
    "hands[0]"
   ]
  },
  {
   "cell_type": "code",
   "execution_count": 169,
   "id": "44dab88d-b148-4488-bbf1-a0658ade66d0",
   "metadata": {},
   "outputs": [],
   "source": [
    "df = trans_hand_into_df(hands[0])"
   ]
  },
  {
   "cell_type": "code",
   "execution_count": 170,
   "id": "94385e07-e575-4393-b593-2e41a179faa7",
   "metadata": {},
   "outputs": [
    {
     "data": {
      "text/html": [
       "<div>\n",
       "<style scoped>\n",
       "    .dataframe tbody tr th:only-of-type {\n",
       "        vertical-align: middle;\n",
       "    }\n",
       "\n",
       "    .dataframe tbody tr th {\n",
       "        vertical-align: top;\n",
       "    }\n",
       "\n",
       "    .dataframe thead th {\n",
       "        text-align: right;\n",
       "    }\n",
       "</style>\n",
       "<table border=\"1\" class=\"dataframe\">\n",
       "  <thead>\n",
       "    <tr style=\"text-align: right;\">\n",
       "      <th></th>\n",
       "      <th>♠</th>\n",
       "      <th>♥</th>\n",
       "      <th>♣</th>\n",
       "      <th>♦</th>\n",
       "      <th>sum</th>\n",
       "    </tr>\n",
       "  </thead>\n",
       "  <tbody>\n",
       "    <tr>\n",
       "      <th>2</th>\n",
       "      <td>1</td>\n",
       "      <td>0</td>\n",
       "      <td>1</td>\n",
       "      <td>0</td>\n",
       "      <td>2</td>\n",
       "    </tr>\n",
       "    <tr>\n",
       "      <th>3</th>\n",
       "      <td>1</td>\n",
       "      <td>1</td>\n",
       "      <td>0</td>\n",
       "      <td>0</td>\n",
       "      <td>2</td>\n",
       "    </tr>\n",
       "    <tr>\n",
       "      <th>4</th>\n",
       "      <td>1</td>\n",
       "      <td>1</td>\n",
       "      <td>1</td>\n",
       "      <td>0</td>\n",
       "      <td>3</td>\n",
       "    </tr>\n",
       "    <tr>\n",
       "      <th>5</th>\n",
       "      <td>1</td>\n",
       "      <td>2</td>\n",
       "      <td>0</td>\n",
       "      <td>0</td>\n",
       "      <td>3</td>\n",
       "    </tr>\n",
       "    <tr>\n",
       "      <th>6</th>\n",
       "      <td>0</td>\n",
       "      <td>0</td>\n",
       "      <td>1</td>\n",
       "      <td>1</td>\n",
       "      <td>2</td>\n",
       "    </tr>\n",
       "    <tr>\n",
       "      <th>7</th>\n",
       "      <td>1</td>\n",
       "      <td>0</td>\n",
       "      <td>2</td>\n",
       "      <td>0</td>\n",
       "      <td>3</td>\n",
       "    </tr>\n",
       "    <tr>\n",
       "      <th>8</th>\n",
       "      <td>1</td>\n",
       "      <td>0</td>\n",
       "      <td>0</td>\n",
       "      <td>1</td>\n",
       "      <td>2</td>\n",
       "    </tr>\n",
       "    <tr>\n",
       "      <th>9</th>\n",
       "      <td>0</td>\n",
       "      <td>0</td>\n",
       "      <td>0</td>\n",
       "      <td>0</td>\n",
       "      <td>0</td>\n",
       "    </tr>\n",
       "    <tr>\n",
       "      <th>10</th>\n",
       "      <td>0</td>\n",
       "      <td>1</td>\n",
       "      <td>1</td>\n",
       "      <td>0</td>\n",
       "      <td>2</td>\n",
       "    </tr>\n",
       "    <tr>\n",
       "      <th>J</th>\n",
       "      <td>0</td>\n",
       "      <td>1</td>\n",
       "      <td>0</td>\n",
       "      <td>0</td>\n",
       "      <td>1</td>\n",
       "    </tr>\n",
       "    <tr>\n",
       "      <th>Q</th>\n",
       "      <td>0</td>\n",
       "      <td>0</td>\n",
       "      <td>0</td>\n",
       "      <td>0</td>\n",
       "      <td>0</td>\n",
       "    </tr>\n",
       "    <tr>\n",
       "      <th>K</th>\n",
       "      <td>0</td>\n",
       "      <td>1</td>\n",
       "      <td>0</td>\n",
       "      <td>0</td>\n",
       "      <td>1</td>\n",
       "    </tr>\n",
       "    <tr>\n",
       "      <th>A</th>\n",
       "      <td>0</td>\n",
       "      <td>1</td>\n",
       "      <td>2</td>\n",
       "      <td>1</td>\n",
       "      <td>4</td>\n",
       "    </tr>\n",
       "    <tr>\n",
       "      <th>BJ</th>\n",
       "      <td>0</td>\n",
       "      <td>0</td>\n",
       "      <td>0</td>\n",
       "      <td>0</td>\n",
       "      <td>2</td>\n",
       "    </tr>\n",
       "    <tr>\n",
       "      <th>RJ</th>\n",
       "      <td>0</td>\n",
       "      <td>0</td>\n",
       "      <td>0</td>\n",
       "      <td>0</td>\n",
       "      <td>0</td>\n",
       "    </tr>\n",
       "  </tbody>\n",
       "</table>\n",
       "</div>"
      ],
      "text/plain": [
       "    ♠  ♥  ♣  ♦  sum\n",
       "2   1  0  1  0    2\n",
       "3   1  1  0  0    2\n",
       "4   1  1  1  0    3\n",
       "5   1  2  0  0    3\n",
       "6   0  0  1  1    2\n",
       "7   1  0  2  0    3\n",
       "8   1  0  0  1    2\n",
       "9   0  0  0  0    0\n",
       "10  0  1  1  0    2\n",
       "J   0  1  0  0    1\n",
       "Q   0  0  0  0    0\n",
       "K   0  1  0  0    1\n",
       "A   0  1  2  1    4\n",
       "BJ  0  0  0  0    2\n",
       "RJ  0  0  0  0    0"
      ]
     },
     "execution_count": 170,
     "metadata": {},
     "output_type": "execute_result"
    }
   ],
   "source": [
    "df"
   ]
  },
  {
   "cell_type": "markdown",
   "id": "97d2ba1b-2553-448a-b0d2-6fe2ac4d2395",
   "metadata": {},
   "source": [
    "## 牌型可能"
   ]
  },
  {
   "cell_type": "code",
   "execution_count": 171,
   "id": "740166a1-305c-46b4-a386-9bff8a0e3c39",
   "metadata": {},
   "outputs": [],
   "source": [
    "# 单张\n",
    "one_kind_list = df[df['sum'] >= 1].index.tolist()"
   ]
  },
  {
   "cell_type": "code",
   "execution_count": 172,
   "id": "589723d9-abe8-4203-976f-6c49011ac779",
   "metadata": {},
   "outputs": [],
   "source": [
    "# 对子\n",
    "two_kinds_list = df[df['sum'] >= 2].index.tolist()"
   ]
  },
  {
   "cell_type": "code",
   "execution_count": 173,
   "id": "b7912f01-2565-4bb1-98a2-3d8dfdf02781",
   "metadata": {},
   "outputs": [],
   "source": [
    "# 三张\n",
    "three_kinds_list = df[df['sum'] >= 3].index.tolist()"
   ]
  },
  {
   "cell_type": "code",
   "execution_count": 174,
   "id": "bcc7d55f-7ac4-400e-be5d-bea8f12f82f1",
   "metadata": {},
   "outputs": [],
   "source": [
    "# 四张以上的炸弹\n",
    "bomb_list = df[df['sum'] >= 4].index.tolist()"
   ]
  },
  {
   "cell_type": "code",
   "execution_count": 175,
   "id": "2ca9982c-a94f-4482-8385-749959c653a1",
   "metadata": {},
   "outputs": [],
   "source": [
    "# 三带二\n",
    "fullhouse_list =  [(i*3+j*2) for i in three_kinds_list for j in two_kinds_list if i != j]"
   ]
  },
  {
   "cell_type": "code",
   "execution_count": 176,
   "id": "dce8400a-12ae-4dd4-8b90-55ac936a1097",
   "metadata": {},
   "outputs": [],
   "source": [
    "# 五张顺子\n",
    "sequence_df = df.copy()\n",
    "sequence_df = sequence_df.loc['2':'A']\n",
    "sequence_df = pd.concat([sequence_df.loc[['A']], sequence_df], axis=0)\n",
    "straight_list =  [''.join(sequence_df['sum'][i-4:i+1].index.tolist()) \n",
    "                  for i in range(4, len(sequence_df['sum'])) \n",
    "                  if (sequence_df['sum'][i-4:i+1]>0).sum()==5]"
   ]
  },
  {
   "cell_type": "code",
   "execution_count": 189,
   "id": "4b25d4b5-10af-4d3f-a62f-8cc263701cfb",
   "metadata": {},
   "outputs": [],
   "source": [
    "# 钢板\n",
    "plate_list =  [''.join((sequence_df['sum'][i-1:i+1].index*3).tolist()) \n",
    "                  for i in range(1, len(sequence_df['sum'])) \n",
    "                  if (sequence_df['sum'][i-1:i+1]>2).sum()==2]"
   ]
  },
  {
   "cell_type": "code",
   "execution_count": 190,
   "id": "36f06c0b-fcdb-4c5e-a34f-8445d8502244",
   "metadata": {},
   "outputs": [],
   "source": [
    "# 三连对\n",
    "tube_list =  [''.join((sequence_df['sum'][i-2:i+1].index*2).tolist()) \n",
    "                  for i in range(2, len(sequence_df['sum'])) \n",
    "                  if (sequence_df['sum'][i-2:i+1]>1).sum()==3]"
   ]
  },
  {
   "cell_type": "code",
   "execution_count": 191,
   "id": "f731760a-13f8-42a4-8434-70b0ddd962d8",
   "metadata": {},
   "outputs": [],
   "source": [
    "# 同花顺\n",
    "flush_list =  [[f'{j}'.join(sequence_df[j][i-4:i+1].index.tolist()) + j \n",
    "                  for i in range(4, len(sequence_df['sum'])) \n",
    "                  if (sequence_df[j][i-4:i+1]>0).sum()==5] for j in suits ]"
   ]
  },
  {
   "cell_type": "code",
   "execution_count": 192,
   "id": "653682af-b72c-4abd-b1fa-7bbe618c5744",
   "metadata": {},
   "outputs": [
    {
     "data": {
      "text/plain": [
       "['2', '3', '4', '5', '6', '7', '8', '10', 'J', 'K', 'A', 'BJ']"
      ]
     },
     "execution_count": 192,
     "metadata": {},
     "output_type": "execute_result"
    }
   ],
   "source": [
    "one_kind_list"
   ]
  },
  {
   "cell_type": "code",
   "execution_count": 193,
   "id": "44491831-d718-451d-bcfe-346cfb1f535c",
   "metadata": {},
   "outputs": [
    {
     "data": {
      "text/plain": [
       "['2', '3', '4', '5', '6', '7', '8', '10', 'A', 'BJ']"
      ]
     },
     "execution_count": 193,
     "metadata": {},
     "output_type": "execute_result"
    }
   ],
   "source": [
    "two_kinds_list"
   ]
  },
  {
   "cell_type": "code",
   "execution_count": 194,
   "id": "9f986969-f24a-45d6-b728-7f71121d81a6",
   "metadata": {},
   "outputs": [
    {
     "data": {
      "text/plain": [
       "['4', '5', '7', 'A']"
      ]
     },
     "execution_count": 194,
     "metadata": {},
     "output_type": "execute_result"
    }
   ],
   "source": [
    "three_kinds_list"
   ]
  },
  {
   "cell_type": "code",
   "execution_count": 195,
   "id": "3cabcb94-5082-44d5-a273-23840e1ca919",
   "metadata": {},
   "outputs": [
    {
     "data": {
      "text/plain": [
       "['A']"
      ]
     },
     "execution_count": 195,
     "metadata": {},
     "output_type": "execute_result"
    }
   ],
   "source": [
    "bomb_list"
   ]
  },
  {
   "cell_type": "code",
   "execution_count": 196,
   "id": "50b7213b-3079-4b36-871e-3dd1d2aa3559",
   "metadata": {},
   "outputs": [
    {
     "data": {
      "text/plain": [
       "['44422',\n",
       " '44433',\n",
       " '44455',\n",
       " '44466',\n",
       " '44477',\n",
       " '44488',\n",
       " '4441010',\n",
       " '444AA',\n",
       " '444BJBJ',\n",
       " '55522',\n",
       " '55533',\n",
       " '55544',\n",
       " '55566',\n",
       " '55577',\n",
       " '55588',\n",
       " '5551010',\n",
       " '555AA',\n",
       " '555BJBJ',\n",
       " '77722',\n",
       " '77733',\n",
       " '77744',\n",
       " '77755',\n",
       " '77766',\n",
       " '77788',\n",
       " '7771010',\n",
       " '777AA',\n",
       " '777BJBJ',\n",
       " 'AAA22',\n",
       " 'AAA33',\n",
       " 'AAA44',\n",
       " 'AAA55',\n",
       " 'AAA66',\n",
       " 'AAA77',\n",
       " 'AAA88',\n",
       " 'AAA1010',\n",
       " 'AAABJBJ']"
      ]
     },
     "execution_count": 196,
     "metadata": {},
     "output_type": "execute_result"
    }
   ],
   "source": [
    "fullhouse_list"
   ]
  },
  {
   "cell_type": "code",
   "execution_count": 197,
   "id": "a7852091-06d6-41a2-906c-ca8df1a9effa",
   "metadata": {},
   "outputs": [
    {
     "data": {
      "text/plain": [
       "['A2345', '23456', '34567', '45678']"
      ]
     },
     "execution_count": 197,
     "metadata": {},
     "output_type": "execute_result"
    }
   ],
   "source": [
    "straight_list"
   ]
  },
  {
   "cell_type": "code",
   "execution_count": 198,
   "id": "02b1a54d-7444-456f-9fda-15d0dbe05151",
   "metadata": {},
   "outputs": [
    {
     "data": {
      "text/plain": [
       "['444555']"
      ]
     },
     "execution_count": 198,
     "metadata": {},
     "output_type": "execute_result"
    }
   ],
   "source": [
    "plate_list"
   ]
  },
  {
   "cell_type": "code",
   "execution_count": 199,
   "id": "e28886c1-7912-41e7-8f3d-44bf2ae0a2c9",
   "metadata": {},
   "outputs": [
    {
     "data": {
      "text/plain": [
       "['AA2233', '223344', '334455', '445566', '556677', '667788']"
      ]
     },
     "execution_count": 199,
     "metadata": {},
     "output_type": "execute_result"
    }
   ],
   "source": [
    "tube_list"
   ]
  },
  {
   "cell_type": "code",
   "execution_count": 200,
   "id": "0468b8da-dacd-44f8-92e3-6e8f1832f984",
   "metadata": {},
   "outputs": [
    {
     "data": {
      "text/plain": [
       "[[], [], [], []]"
      ]
     },
     "execution_count": 200,
     "metadata": {},
     "output_type": "execute_result"
    }
   ],
   "source": [
    "flush_list"
   ]
  },
  {
   "cell_type": "markdown",
   "id": "ad2ab811-358a-4b6a-bb91-d268d5708a2b",
   "metadata": {},
   "source": [
    "## 函数封装"
   ]
  },
  {
   "cell_type": "code",
   "execution_count": 8,
   "id": "231146c9-b7d3-477c-98fe-40d1edefd4d9",
   "metadata": {
    "tags": []
   },
   "outputs": [],
   "source": [
    "import random\n",
    "import numpy as np\n",
    "import pandas as pd\n",
    "import matplotlib.pyplot as plt"
   ]
  },
  {
   "cell_type": "code",
   "execution_count": 2,
   "id": "0d7ad53b-4bb0-49f7-af29-0711b0155e34",
   "metadata": {
    "tags": []
   },
   "outputs": [],
   "source": [
    "suits = ['♠', '♥', '♣', '♦']  # 黑桃, 红心, 梅花, 方片\n",
    "ranks = ['2', '3', '4', '5', '6', '7', '8', '9', '10', 'J', 'Q', 'K', 'A']"
   ]
  },
  {
   "cell_type": "code",
   "execution_count": 3,
   "id": "98ab43ea-9432-4c3a-b9d7-5ede105131d8",
   "metadata": {
    "tags": []
   },
   "outputs": [],
   "source": [
    "# 创建一副牌\n",
    "deck = [f'{rank}{suit}' for suit in suits for rank in ranks]\n",
    "deck += ['BJ', 'RJ']  # 加入两张王\n",
    "two_decks = deck + deck"
   ]
  },
  {
   "cell_type": "code",
   "execution_count": 4,
   "id": "b90f5c3f-20ad-4565-9a41-d4566134c5d2",
   "metadata": {
    "tags": []
   },
   "outputs": [],
   "source": [
    "# 洗牌发牌，每人27张（掼蛋通常4人）\n",
    "def deal(deck, seed):\n",
    "    random.seed(seed)\n",
    "    random.shuffle(two_decks)\n",
    "    return [deck[i::4] for i in range(4)]"
   ]
  },
  {
   "cell_type": "code",
   "execution_count": 5,
   "id": "ec979a12-02b0-4e01-be41-51da9fe3edf7",
   "metadata": {
    "tags": []
   },
   "outputs": [],
   "source": [
    "def trans_hand_into_df(hand):\n",
    "    df = pd.DataFrame(columns=['♠', '♥', '♣', '♦', 'sum'], data=0,\n",
    "             index=['2', '3', '4', '5', '6', '7', '8', '9', '10', 'J', 'Q', 'K', 'A', 'BJ', 'RJ'])\n",
    "    for i in hand:\n",
    "        if i == 'BJ':\n",
    "            df.loc['BJ', 'sum'] += 1\n",
    "        elif i == 'RJ':\n",
    "            df.loc['RJ', 'sum'] += 1\n",
    "        else:\n",
    "            df.loc[i[:-1], i[-1]] += 1\n",
    "    df['sum'] += df.loc[:, ['♠', '♥', '♣', '♦']].sum(axis=1)\n",
    "    return df"
   ]
  },
  {
   "cell_type": "code",
   "execution_count": 6,
   "id": "cef59282-3d0c-41fa-b653-dc59ec4795e4",
   "metadata": {
    "tags": []
   },
   "outputs": [],
   "source": [
    "def generate_combinations(df):\n",
    "    # 单张\n",
    "    one_kind_list = df[df['sum'] >= 1].index.tolist() \n",
    "    # 对子\n",
    "    two_kinds_list = [i*2 for i in df[df['sum'] >= 2].index.tolist()]\n",
    "    # 三张\n",
    "    three_kinds_list = [i*3 for i in df[df['sum'] >= 3].index.tolist()]\n",
    "    # 四张以上的炸弹\n",
    "    bomb_list = [i*j for i,j in zip(df[df['sum'] >= 4].index.tolist(), \n",
    "                                    df[df['sum'] >= 4]['sum'].tolist())]\n",
    "    # 三带二\n",
    "    fullhouse_list =  [(i+j) for i in three_kinds_list for j in two_kinds_list if i[0] != j[0]]\n",
    "    # 五张顺子\n",
    "    sequence_df = df.copy()\n",
    "    sequence_df = sequence_df.loc['2':'A']\n",
    "    sequence_df = pd.concat([sequence_df.loc[['A']], sequence_df], axis=0)\n",
    "    straight_list =  [''.join(sequence_df['sum'][i-4:i+1].index.tolist()) \n",
    "                      for i in range(4, len(sequence_df['sum'])) \n",
    "                      if (sequence_df['sum'][i-4:i+1]>0).sum()==5]\n",
    "    # 钢板\n",
    "    plate_list =  [''.join((sequence_df['sum'][i-1:i+1].index*3).tolist()) \n",
    "                      for i in range(1, len(sequence_df['sum'])) \n",
    "                      if (sequence_df['sum'][i-1:i+1]>2).sum()==2]\n",
    "    # 三连对\n",
    "    tube_list =  [''.join((sequence_df['sum'][i-2:i+1].index*2).tolist()) \n",
    "                      for i in range(2, len(sequence_df['sum'])) \n",
    "                      if (sequence_df['sum'][i-2:i+1]>1).sum()==3]\n",
    "    # 同花顺\n",
    "    flush_list =  [[f'{j}'.join(sequence_df[j][i-4:i+1].index.tolist()) + j \n",
    "                      for i in range(4, len(sequence_df['sum'])) \n",
    "                      if (sequence_df[j][i-4:i+1]>0).sum()==5] for j in suits ]\n",
    "    return one_kind_list, two_kinds_list, three_kinds_list, bomb_list,\\\n",
    "           fullhouse_list, straight_list, plate_list, tube_list, flush_list"
   ]
  },
  {
   "cell_type": "code",
   "execution_count": 18,
   "id": "3517dedc-e093-4d94-952f-80caefe049b3",
   "metadata": {
    "tags": []
   },
   "outputs": [],
   "source": [
    "hand = trans_hand_into_df(deal(two_decks, 42)[0])"
   ]
  },
  {
   "cell_type": "code",
   "execution_count": 20,
   "id": "75f1b5d5-899d-4cc1-b17b-b5398d3faf5e",
   "metadata": {
    "tags": []
   },
   "outputs": [
    {
     "data": {
      "text/html": [
       "<div>\n",
       "<style scoped>\n",
       "    .dataframe tbody tr th:only-of-type {\n",
       "        vertical-align: middle;\n",
       "    }\n",
       "\n",
       "    .dataframe tbody tr th {\n",
       "        vertical-align: top;\n",
       "    }\n",
       "\n",
       "    .dataframe thead th {\n",
       "        text-align: right;\n",
       "    }\n",
       "</style>\n",
       "<table border=\"1\" class=\"dataframe\">\n",
       "  <thead>\n",
       "    <tr style=\"text-align: right;\">\n",
       "      <th></th>\n",
       "      <th>♠</th>\n",
       "      <th>♥</th>\n",
       "      <th>♣</th>\n",
       "      <th>♦</th>\n",
       "      <th>sum</th>\n",
       "    </tr>\n",
       "  </thead>\n",
       "  <tbody>\n",
       "    <tr>\n",
       "      <th>2</th>\n",
       "      <td>0</td>\n",
       "      <td>1</td>\n",
       "      <td>0</td>\n",
       "      <td>0</td>\n",
       "      <td>1</td>\n",
       "    </tr>\n",
       "    <tr>\n",
       "      <th>3</th>\n",
       "      <td>0</td>\n",
       "      <td>0</td>\n",
       "      <td>1</td>\n",
       "      <td>1</td>\n",
       "      <td>2</td>\n",
       "    </tr>\n",
       "    <tr>\n",
       "      <th>4</th>\n",
       "      <td>0</td>\n",
       "      <td>0</td>\n",
       "      <td>0</td>\n",
       "      <td>1</td>\n",
       "      <td>1</td>\n",
       "    </tr>\n",
       "    <tr>\n",
       "      <th>5</th>\n",
       "      <td>0</td>\n",
       "      <td>1</td>\n",
       "      <td>1</td>\n",
       "      <td>0</td>\n",
       "      <td>2</td>\n",
       "    </tr>\n",
       "    <tr>\n",
       "      <th>6</th>\n",
       "      <td>0</td>\n",
       "      <td>2</td>\n",
       "      <td>0</td>\n",
       "      <td>0</td>\n",
       "      <td>2</td>\n",
       "    </tr>\n",
       "    <tr>\n",
       "      <th>7</th>\n",
       "      <td>1</td>\n",
       "      <td>1</td>\n",
       "      <td>1</td>\n",
       "      <td>0</td>\n",
       "      <td>3</td>\n",
       "    </tr>\n",
       "    <tr>\n",
       "      <th>8</th>\n",
       "      <td>1</td>\n",
       "      <td>0</td>\n",
       "      <td>1</td>\n",
       "      <td>0</td>\n",
       "      <td>2</td>\n",
       "    </tr>\n",
       "    <tr>\n",
       "      <th>9</th>\n",
       "      <td>1</td>\n",
       "      <td>0</td>\n",
       "      <td>1</td>\n",
       "      <td>0</td>\n",
       "      <td>2</td>\n",
       "    </tr>\n",
       "    <tr>\n",
       "      <th>10</th>\n",
       "      <td>0</td>\n",
       "      <td>1</td>\n",
       "      <td>1</td>\n",
       "      <td>1</td>\n",
       "      <td>3</td>\n",
       "    </tr>\n",
       "    <tr>\n",
       "      <th>J</th>\n",
       "      <td>0</td>\n",
       "      <td>0</td>\n",
       "      <td>1</td>\n",
       "      <td>1</td>\n",
       "      <td>2</td>\n",
       "    </tr>\n",
       "    <tr>\n",
       "      <th>Q</th>\n",
       "      <td>0</td>\n",
       "      <td>0</td>\n",
       "      <td>0</td>\n",
       "      <td>1</td>\n",
       "      <td>1</td>\n",
       "    </tr>\n",
       "    <tr>\n",
       "      <th>K</th>\n",
       "      <td>1</td>\n",
       "      <td>2</td>\n",
       "      <td>0</td>\n",
       "      <td>0</td>\n",
       "      <td>3</td>\n",
       "    </tr>\n",
       "    <tr>\n",
       "      <th>A</th>\n",
       "      <td>1</td>\n",
       "      <td>1</td>\n",
       "      <td>0</td>\n",
       "      <td>0</td>\n",
       "      <td>2</td>\n",
       "    </tr>\n",
       "    <tr>\n",
       "      <th>BJ</th>\n",
       "      <td>0</td>\n",
       "      <td>0</td>\n",
       "      <td>0</td>\n",
       "      <td>0</td>\n",
       "      <td>1</td>\n",
       "    </tr>\n",
       "    <tr>\n",
       "      <th>RJ</th>\n",
       "      <td>0</td>\n",
       "      <td>0</td>\n",
       "      <td>0</td>\n",
       "      <td>0</td>\n",
       "      <td>0</td>\n",
       "    </tr>\n",
       "  </tbody>\n",
       "</table>\n",
       "</div>"
      ],
      "text/plain": [
       "    ♠  ♥  ♣  ♦  sum\n",
       "2   0  1  0  0    1\n",
       "3   0  0  1  1    2\n",
       "4   0  0  0  1    1\n",
       "5   0  1  1  0    2\n",
       "6   0  2  0  0    2\n",
       "7   1  1  1  0    3\n",
       "8   1  0  1  0    2\n",
       "9   1  0  1  0    2\n",
       "10  0  1  1  1    3\n",
       "J   0  0  1  1    2\n",
       "Q   0  0  0  1    1\n",
       "K   1  2  0  0    3\n",
       "A   1  1  0  0    2\n",
       "BJ  0  0  0  0    1\n",
       "RJ  0  0  0  0    0"
      ]
     },
     "execution_count": 20,
     "metadata": {},
     "output_type": "execute_result"
    }
   ],
   "source": [
    "hand"
   ]
  },
  {
   "cell_type": "code",
   "execution_count": 21,
   "id": "14a7c02d-d1ba-490f-92cc-f9160230e1ca",
   "metadata": {
    "tags": []
   },
   "outputs": [
    {
     "data": {
      "text/plain": [
       "(['2', '3', '4', '5', '6', '7', '8', '9', '10', 'J', 'Q', 'K', 'A', 'BJ'],\n",
       " ['33', '55', '66', '77', '88', '99', '1010', 'JJ', 'KK', 'AA'],\n",
       " ['777', '101010', 'KKK'],\n",
       " [],\n",
       " ['77733',\n",
       "  '77755',\n",
       "  '77766',\n",
       "  '77788',\n",
       "  '77799',\n",
       "  '7771010',\n",
       "  '777JJ',\n",
       "  '777KK',\n",
       "  '777AA',\n",
       "  '10101033',\n",
       "  '10101055',\n",
       "  '10101066',\n",
       "  '10101077',\n",
       "  '10101088',\n",
       "  '10101099',\n",
       "  '101010JJ',\n",
       "  '101010KK',\n",
       "  '101010AA',\n",
       "  'KKK33',\n",
       "  'KKK55',\n",
       "  'KKK66',\n",
       "  'KKK77',\n",
       "  'KKK88',\n",
       "  'KKK99',\n",
       "  'KKK1010',\n",
       "  'KKKJJ',\n",
       "  'KKKAA'],\n",
       " ['A2345',\n",
       "  '23456',\n",
       "  '34567',\n",
       "  '45678',\n",
       "  '56789',\n",
       "  '678910',\n",
       "  '78910J',\n",
       "  '8910JQ',\n",
       "  '910JQK',\n",
       "  '10JQKA'],\n",
       " [],\n",
       " ['556677', '667788', '778899', '88991010', '991010JJ'],\n",
       " [[], [], ['7♣8♣9♣10♣J♣'], []])"
      ]
     },
     "execution_count": 21,
     "metadata": {},
     "output_type": "execute_result"
    }
   ],
   "source": [
    "generate_combinations(hand)"
   ]
  }
 ],
 "metadata": {
  "kernelspec": {
   "display_name": "Python 3 (ipykernel)",
   "language": "python",
   "name": "python3"
  },
  "language_info": {
   "codemirror_mode": {
    "name": "ipython",
    "version": 3
   },
   "file_extension": ".py",
   "mimetype": "text/x-python",
   "name": "python",
   "nbconvert_exporter": "python",
   "pygments_lexer": "ipython3",
   "version": "3.11.5"
  }
 },
 "nbformat": 4,
 "nbformat_minor": 5
}
